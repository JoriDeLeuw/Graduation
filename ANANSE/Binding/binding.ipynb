{
 "cells": [
  {
   "cell_type": "code",
   "execution_count": 1,
   "id": "leading-merchandise",
   "metadata": {},
   "outputs": [],
   "source": [
    "import pandas as pd\n",
    "import os\n",
    "import dask.dataframe as dd\n",
    "from pathlib import Path\n",
    "import subprocess as sp\n",
    "import math\n",
    "import seaborn as sns\n",
    "import matplotlib.pyplot as plt\n",
    "import re\n",
    "import numpy as np\n",
    "import itertools"
   ]
  },
  {
   "cell_type": "code",
   "execution_count": 2,
   "id": "chubby-arcade",
   "metadata": {},
   "outputs": [],
   "source": [
    "def genome_TSS_annotation(genome_path_gtf, TSS_gtf):\n",
    "    \"\"\"\n",
    "    Takes a ensemble genome gtf file as input, and returns a smaller gtf file containing only the genes and\n",
    "    their TSS locations\n",
    "    \"\"\"\n",
    "    Path(f\"{TSS_gtf}\").touch()\n",
    "    tempfile = os.getcwd() + \"/temp_TSS_genome_annotation.txt\"\n",
    "    Path(tempfile).touch()\n",
    "    os.remove(f\"{TSS_gtf}\")\n",
    "    # i = 0\n",
    "    with open(f\"{tempfile}\", \"a\") as output_gtf:\n",
    "        with open(genome_path_gtf) as f:\n",
    "            for _ in range(5):\n",
    "                next(f)\n",
    "            for line in f:\n",
    "                line = line.strip()\n",
    "                line = line.split()\n",
    "                gene_name = line[13]\n",
    "                coding_stuff = line[17]\n",
    "                strand_info = line[6]\n",
    "                #             if i == 1000:\n",
    "                #                 break\n",
    "                #             i = i + 1\n",
    "                gene_name = gene_name.rstrip(\";\")\n",
    "                coding_stuff = coding_stuff.rstrip(\";\")\n",
    "                # coding_stuff = coding_stuff.rstrip(\";\")\n",
    "                if str(coding_stuff) == '\"protein_coding\"':\n",
    "                    if line[6] == \"+\":\n",
    "                        start = line[3]\n",
    "                        end = int(start) + 1\n",
    "                        output_gtf.write(\n",
    "                            line[0]\n",
    "                            + \"\\t\"\n",
    "                            + str(start)\n",
    "                            + \"\\t\"\n",
    "                            + str(end)\n",
    "                            + \"\\t\"\n",
    "                            + gene_name\n",
    "                            + \"\\n\"\n",
    "                        )\n",
    "                    else:\n",
    "                        start = int(line[4]) - 1\n",
    "                        end = line[4]\n",
    "                        output_gtf.write(\n",
    "                            line[0]\n",
    "                            + \"\\t\"\n",
    "                            + str(start)\n",
    "                            + \"\\t\"\n",
    "                            + str(end)\n",
    "                            + \"\\t\"\n",
    "                            + gene_name\n",
    "                            + \"\\n\"\n",
    "                        )\n",
    "    sp.check_call(\n",
    "        f\"nice -5 bedtools sort \" f\"-i {tempfile} \" f\"> {TSS_gtf}\", shell=True,\n",
    "    )\n",
    "    os.remove(tempfile)"
   ]
  },
  {
   "cell_type": "code",
   "execution_count": 3,
   "id": "local-memphis",
   "metadata": {},
   "outputs": [],
   "source": [
    "def TSS_window_to_region(genome_TSS_gtf, bedregion_file, TSS_window):\n",
    "    \"\"\"\n",
    "    Takes a genome TSS gtf file or bedfile as input (see the 'genome_TSS_GTF' script) together with a bed file \n",
    "    with regions and a window length.\n",
    "    It wil subsequently take a window around the TSS, and list all regions overlapping with this window. It will\n",
    "    furhtermore calculate the distance of te bedregion to the TSS.\n",
    "    It will return a dataframe containing all these results.\n",
    "    \"\"\"\n",
    "    sp.check_call(\n",
    "        f\"nice -10 bedtools window \"\n",
    "        f\"-w {TSS_window} \"\n",
    "        f\"-a {genome_TSS_gtf} \"\n",
    "        f\"-b {bedregion_file} \"\n",
    "        f\"> tmp_bedtool_window.txt\",\n",
    "        shell=True,\n",
    "    )\n",
    "    pd_table = pd.read_table(\n",
    "        \"tmp_bedtool_window.txt\",\n",
    "        index_col=None,\n",
    "        names=[\n",
    "            \"chr_TSS\",\n",
    "            \"start_TSS\",\n",
    "            \"end_TSS\",\n",
    "            \"gene_name\",\n",
    "            \"Chrom\",\n",
    "            \"ChromStart\",\n",
    "            \"ChromEnd\",\n",
    "        ],\n",
    "        dtype={\n",
    "            \"chr_TSS\": str,\n",
    "            \"start_TSS\": int,\n",
    "            \"end_TSS\": int,\n",
    "            \"gene_name\": str,\n",
    "            \"Chrom\": str,\n",
    "            \"ChromStart\": int,\n",
    "            \"ChromEnd\": int,\n",
    "        },\n",
    "    )\n",
    "    os.remove(\"tmp_bedtool_window.txt\")\n",
    "    distance = (\n",
    "        []\n",
    "    )  # calculate the distance based on the TSS start end region start site, check which one is upstream for distance calc.\n",
    "    for x, y in zip(pd_table[\"start_TSS\"], pd_table[\"ChromStart\"]):\n",
    "        if x > y:\n",
    "            distance.append(x - y)\n",
    "        elif y > x:\n",
    "            distance.append(y - x)\n",
    "        else:\n",
    "            distance.append(\"NaN\")\n",
    "    pd_table[\"distance\"] = distance\n",
    "    return pd_table"
   ]
  },
  {
   "cell_type": "code",
   "execution_count": 59,
   "id": "continental-clear",
   "metadata": {},
   "outputs": [],
   "source": [
    "def distance_weight(include_promoter=False, include_enhancer=True, alpha=1e5, padding=100000, keep1=5000, remove=2000):\n",
    "    \"\"\"\n",
    "    Built weight distribution from TSS. (From Ananse)\n",
    "    \"\"\"\n",
    "    # alpha is half site, default setting is 1e5, which means at 1e5 position weight is 0.5\n",
    "    # padding is the full range we used\n",
    "    # remove is promoter removed range\n",
    "    # keep1 is keep full binding score range\n",
    "    u = -math.log(1.0 / 3.0) * 1e5 / alpha\n",
    "    if include_promoter and include_enhancer:\n",
    "        weight1 = pd.DataFrame(\n",
    "            {\"weight\": [1 for z in range(1, remove + 1)], \"dist\": range(1, remove + 1)}\n",
    "        )\n",
    "        weight2 = pd.DataFrame(\n",
    "            {\n",
    "                \"weight\": [1 for z in range(remove + 1, keep1 + 1)],\n",
    "                \"dist\": range(remove + 1, keep1 + 1),\n",
    "            }\n",
    "        )\n",
    "        weight3 = pd.DataFrame(\n",
    "            {\n",
    "                \"weight\": [\n",
    "                    2.0\n",
    "                    * math.exp(-u * math.fabs(z) / 1e5)\n",
    "                    / (1.0 + math.exp(-u * math.fabs(z) / 1e5))\n",
    "                    for z in range(1, padding - keep1 + 1)\n",
    "                ],\n",
    "                \"dist\": range(keep1 + 1, padding + 1),\n",
    "            }\n",
    "        )\n",
    "    elif not include_promoter and include_enhancer:\n",
    "        weight1 = pd.DataFrame(\n",
    "            {\"weight\": [0 for z in range(1, remove + 1)], \"dist\": range(1, remove + 1)}\n",
    "        )\n",
    "        weight2 = pd.DataFrame(\n",
    "            {\n",
    "                \"weight\": [1 for z in range(remove + 1, keep1 + 1)],\n",
    "                \"dist\": range(remove + 1, keep1 + 1),\n",
    "            }\n",
    "        )\n",
    "        weight3 = pd.DataFrame(\n",
    "            {\n",
    "                \"weight\": [\n",
    "                    2.0\n",
    "                    * math.exp(-u * math.fabs(z) / 1e5)\n",
    "                    / (1.0 + math.exp(-u * math.fabs(z) / 1e5))\n",
    "                    for z in range(1, padding - keep1 + 1)\n",
    "                ],\n",
    "                \"dist\": range(keep1 + 1, padding + 1),\n",
    "            }\n",
    "        )\n",
    "    elif include_promoter and not include_enhancer:\n",
    "        weight1 = pd.DataFrame(\n",
    "            {\"weight\": [1 for z in range(1, remove + 1)], \"dist\": range(1, remove + 1)}\n",
    "        )\n",
    "        weight2 = pd.DataFrame(\n",
    "            {\n",
    "                \"weight\": [0 for z in range(remove + 1, keep1 + 1)],\n",
    "                \"dist\": range(remove + 1, keep1 + 1),\n",
    "            }\n",
    "        )\n",
    "        weight3 = pd.DataFrame(\n",
    "            {\n",
    "                \"weight\": [0 for z in range(1, padding - keep1 + 1)],\n",
    "                \"dist\": range(keep1 + 1, padding + 1),\n",
    "            }\n",
    "        )\n",
    "    else:\n",
    "        weight1 = pd.DataFrame(\n",
    "            {\"weight\": [0 for z in range(1, remove + 1)], \"dist\": range(1, remove + 1)}\n",
    "        )\n",
    "        weight2 = pd.DataFrame(\n",
    "            {\n",
    "                \"weight\": [0 for z in range(remove + 1, keep1 + 1)],\n",
    "                \"dist\": range(remove + 1, keep1 + 1),\n",
    "            }\n",
    "        )\n",
    "        weight3 = pd.DataFrame(\n",
    "            {\n",
    "                \"weight\": [0 for z in range(1, padding - keep1 + 1)],\n",
    "                \"dist\": range(keep1 + 1, padding + 1),\n",
    "            }\n",
    "        )\n",
    "    weight = pd.concat([weight1, weight2, weight3])\n",
    "    weight_dict = pd.Series(weight.weight.values, index=weight.dist).to_dict()\n",
    "    return weight_dict"
   ]
  },
  {
   "cell_type": "code",
   "execution_count": 5,
   "id": "assured-upset",
   "metadata": {},
   "outputs": [],
   "source": [
    "#load the table to convert the chromosome names to the USCS format\n",
    "CRCH38_ensembl2UCSC = pd.read_csv('/scratch/bacint/jdeleuw/KC_ATAC/analysis/bigBed/CRCH38_ensembl2UCSC.txt', sep ='\\t',header = 0, index_col=False)\n",
    "\n",
    "#make dictionary which can be used to convert ensembl to UCSC format \n",
    "ensembl_to_UCSC = {}\n",
    "UCSC_to_ensembl = {}\n",
    "for row in CRCH38_ensembl2UCSC.itertuples():\n",
    "    ensembl_to_UCSC[row[1]] = row[2]\n",
    "    UCSC_to_ensembl[row[2]] = row[1]"
   ]
  },
  {
   "cell_type": "markdown",
   "id": "interim-topic",
   "metadata": {},
   "source": [
    "# Load data"
   ]
  },
  {
   "cell_type": "code",
   "execution_count": 6,
   "id": "spare-flesh",
   "metadata": {},
   "outputs": [],
   "source": [
    "#import TFs of interest\n",
    "TFs = pd.read_csv('/scratch/bacint/jdeleuw/ananse/analysis/interesting_TFs.csv', header = None)"
   ]
  },
  {
   "cell_type": "code",
   "execution_count": 7,
   "id": "f4505a2f",
   "metadata": {},
   "outputs": [],
   "source": [
    "variable_names = pd.read_csv('/scratch/bacint/jdeleuw/ananse/binding_data/binding_analysis/Variable_names.csv', sep = ',', header = 0, index_col = 0)"
   ]
  },
  {
   "cell_type": "code",
   "execution_count": 9,
   "id": "15ccff99",
   "metadata": {
    "collapsed": true
   },
   "outputs": [
    {
     "name": "stdout",
     "output_type": "stream",
     "text": [
      "/scratch/bacint/jdeleuw/second_ananse/binding_data2/binding_day0.txt\n",
      "/scratch/bacint/jdeleuw/second_ananse/binding_data2/binding_day07.txt\n",
      "/scratch/bacint/jdeleuw/second_ananse/binding_data2/binding_day14.txt\n",
      "/scratch/bacint/jdeleuw/second_ananse/binding_data2/binding_day21.txt\n",
      "/scratch/bacint/jdeleuw/second_ananse/binding_data2/binding_day43.txt\n",
      "/scratch/bacint/jdeleuw/second_ananse/binding_data2/binding_day60.txt\n",
      "/scratch/bacint/jdeleuw/second_ananse/binding_data2/binding_KC.txt\n"
     ]
    }
   ],
   "source": [
    "#import binding files\n",
    "os.chdir('/scratch/bacint/jdeleuw/ananse/binding_data')\n",
    "for index in variable_names.index:\n",
    "    path_list = [os.getcwd(), '/binding_', index, '.txt']\n",
    "    path = ''.join(path_list)\n",
    "    globals()[index] = dd.read_csv(path, sep='\\t', engine='python', usecols= ['factor', 'enhancer', 'binding'])"
   ]
  },
  {
   "cell_type": "markdown",
   "id": "acknowledged-verse",
   "metadata": {},
   "source": [
    "# Filter TFs"
   ]
  },
  {
   "cell_type": "code",
   "execution_count": 10,
   "id": "ff4edd91",
   "metadata": {
    "scrolled": true
   },
   "outputs": [],
   "source": [
    "#filter TFs of interest from binding files\n",
    "binding_dfs = [globals()[i] for i in dir() if re.match('^day.', i)]\n",
    "binding_dfs.extend([globals()[i] for i in dir() if re.match('KC', i)])\n",
    "\n",
    "for name, binding_df in zip(variable_names.TF_filtered_binding_dfs, binding_dfs):\n",
    "    globals()[name] = binding_df[binding_df['factor'].isin(TFs[0].tolist())].compute()"
   ]
  },
  {
   "cell_type": "markdown",
   "id": "classical-newark",
   "metadata": {},
   "source": [
    "# Get all the enhancer within 100 kb window of TSS and calculate the distance"
   ]
  },
  {
   "cell_type": "code",
   "execution_count": 11,
   "id": "ce704e7c",
   "metadata": {
    "scrolled": true
   },
   "outputs": [],
   "source": [
    "TF_filtered_dfs = [globals()[i] for i in dir() if re.search('^filtered_Day.$', i) \n",
    "                   or re.search('^filtered_Day..$', i) \n",
    "                   or re.search('^filtered_KC$', i)]\n",
    "\n",
    "for df, day in zip(TF_filtered_dfs, variable_names.index):\n",
    "    enhancer_duplicates = df['enhancer'].str.split(':|-', n = 2, expand = True)\n",
    "    enhancer = enhancer_duplicates.drop_duplicates()\n",
    "    enhancer_ensembl = enhancer.replace({0 : UCSC_to_ensembl})\n",
    "    \n",
    "    path_list = ['/scratch/bacint/jdeleuw/ananse/binding_data/binding_analysis/bed_files/', day, '.bed']\n",
    "    path = ''.join(path_list)\n",
    "    \n",
    "    enhancer_ensembl.to_csv(path, sep = '\\t', header = False, index = False)"
   ]
  },
  {
   "cell_type": "code",
   "execution_count": 12,
   "id": "existing-hardwood",
   "metadata": {},
   "outputs": [],
   "source": [
    "#subset the TSS of each gene from the GTF file\n",
    "genome_TSS_annotation('/scratch/bacint/jdeleuw/genomes/GRCh38.p13/GRCh38.p13.annotation.gtf', \n",
    "                      '/scratch/bacint/jdeleuw/genomes/GRCh38.p13/GRCh38.p13.small.annotation.gtf')"
   ]
  },
  {
   "cell_type": "code",
   "execution_count": 53,
   "id": "disabled-processor",
   "metadata": {},
   "outputs": [],
   "source": [
    "#Make df with TSS and enhancers within 100 kb\n",
    "TF_filtered_dfs = [globals()[i] for i in dir() if re.search('^filtered_Day.$', i) \n",
    "                   or re.search('^filtered_Day..$', i) \n",
    "                   or re.search('^filtered_KC$', i)]\n",
    "\n",
    "for binding_df, day, output_name in zip(TF_filtered_dfs, variable_names.index, variable_names.distance_TSS_enhancer):\n",
    "    path_list = ['/scratch/bacint/jdeleuw/ananse/binding_data/binding_analysis/bed_files/', day, '.bed']\n",
    "    path = ''.join(path_list)\n",
    "    \n",
    "    df = TSS_window_to_region('/scratch/bacint/jdeleuw/genomes/GRCh38.p13/GRCh38.p13.small.annotation.gtf',\n",
    "                                                   path,\n",
    "                                                   100000)\n",
    "    #filter TF of interest(influence_score >= 0.95) from the df\n",
    "    filtered_df = df[df['gene_name'].isin(TFs[0].tolist())]\n",
    "    \n",
    "    #merge df with TSS and linked enhancers, with the factor binding to the enhancer with the binding score\n",
    "    filtered_df = filtered_df.replace({'Chrom': ensembl_to_UCSC})\n",
    "    filtered_df['enhancer'] = filtered_df[['Chrom', 'ChromStart']].astype(str).agg(':'.join, axis=1)\n",
    "    filtered_df['enhancer'] = filtered_df[['enhancer', 'ChromEnd']].astype(str).agg('-'.join, axis=1)\n",
    "    \n",
    "    if day == 'day0':\n",
    "        merged_df_temp = filtered_df.merge(binding_df, how = 'inner', on = 'enhancer')\n",
    "        merged_df = merged_df_temp.rename(columns = {'binding' : 'binding_day0'})\n",
    "    else: \n",
    "        merged_df['binding_' + day] = filtered_df.merge(binding_df, how = 'inner', on = 'enhancer')['binding']"
   ]
  },
  {
   "cell_type": "markdown",
   "id": "traditional-southwest",
   "metadata": {},
   "source": [
    "# Normalize the binding score based on the distance\n",
    "# How are the TFs of each cluster targeted by all the TFs"
   ]
  },
  {
   "cell_type": "code",
   "execution_count": 40,
   "id": "e02e8b65",
   "metadata": {},
   "outputs": [],
   "source": [
    "Cluster1 = ['NANOG', 'SOX2', 'SALL4', 'PRDM14', 'ZSCAN10', 'OTX2', 'ZIC3', 'ZFP42', 'MYCN', 'FOXH1']\n",
    "Cluster2 = ['MYC']\n",
    "Cluster3 = ['MEIS1', 'HAND1', 'MSX2', 'HOXB2', 'MEIS2', 'HEY1', 'TBX3', 'TFAP2B']\n",
    "Cluster4 = ['TP63', 'MAF', 'EHF', 'HES2']\n",
    "Cluster5 = ['EPAS1', 'CEBPD', 'KLF5', 'IRF6', 'GRHL1', 'FOSL2', 'SNAI2']\n",
    "Cluster6 = ['IRF9', 'IRX3', 'OSR1', 'HOXB1']"
   ]
  },
  {
   "cell_type": "code",
   "execution_count": 56,
   "id": "colored-field",
   "metadata": {},
   "outputs": [],
   "source": [
    "#add weight based on the distance from the binding site to the TSS\n",
    "Cluster_list = [globals()[i] for i in dir() if re.search('^Cluster.$', i)]\n",
    "\n",
    "weights = distance_weight(alpha=1e4, include_promoter=False)\n",
    "test = merged_df.copy()\n",
    "\n",
    "for Cluster, output_name in zip(Cluster_list, variable_names.targeted_cluster_hm):\n",
    "    hm_data = pd.DataFrame(index = TFs[0], columns = variable_names.index)\n",
    "    for day in variable_names.index:\n",
    "        test['weight'] = test['distance'].map(weights)\n",
    "        test['binding_weight_' + day] = test['binding_' + day] * test['weight']      \n",
    "\n",
    "        regulation_probability = pd.DataFrame(index = TFs[0], columns = TFs[0])\n",
    "        for target_gene, TF in itertools.product(Cluster, TFs[0]):\n",
    "            filtered_target = test[test['gene_name'].isin([target_gene])]\n",
    "            filtered_TF = filtered_target[filtered_target['factor'].isin([TF])]\n",
    "\n",
    "            regulation_probability.at[target_gene, TF] = filtered_TF['binding_weight_' + day].sum()\n",
    "        for TF in TFs[0]:\n",
    "            regulation_probability.replace(0, np.nan, inplace=True)\n",
    "            hm_data.at[TF, day] = regulation_probability.loc[:, TF].mean()\n",
    "        globals()[output_name] = hm_data\n",
    "        path_list = ['/scratch/bacint/jdeleuw/ananse/binding_data/binding_analysis/', output_name, '.tsv']\n",
    "        path = ''.join(path_list)\n",
    "        hm_data.to_csv(path, sep='\\t')"
   ]
  },
  {
   "cell_type": "code",
   "execution_count": 60,
   "id": "wrong-prince",
   "metadata": {},
   "outputs": [
    {
     "data": {
      "image/png": "[encoded data removed]",
      "text/plain": [
       "<Figure size 1080x216 with 1 Axes>"
      ]
     },
     "metadata": {},
     "output_type": "display_data"
    }
   ],
   "source": [
    "sns.set(rc={\"figure.figsize\": (15, 3)})\n",
    "# import from Ananse\n",
    "weight = distance_weight(alpha=1e4, include_promoter=False)\n",
    "sns.lineplot(x=weight[\"dist\"], y=weight[\"weight\"])\n",
    "plt.savefig(f\"/scratch/bacint/jdeleuw/ananse/binding_data/binding_analysis/weight_distance_enhancer_window.pdf\")\n",
    "enh_weight_dict = pd.Series(weight.weight.values, index=weight.dist).to_dict()"
   ]
  }
 ],
 "metadata": {
  "kernelspec": {
   "display_name": "Python 3",
   "language": "python",
   "name": "python3"
  },
  "language_info": {
   "codemirror_mode": {
    "name": "ipython",
    "version": 3
   },
   "file_extension": ".py",
   "mimetype": "text/x-python",
   "name": "python",
   "nbconvert_exporter": "python",
   "pygments_lexer": "ipython3",
   "version": "3.7.8"
  }
 },
 "nbformat": 4,
 "nbformat_minor": 5
}
