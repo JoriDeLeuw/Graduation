{
 "cells": [
  {
   "cell_type": "code",
   "execution_count": 1,
   "id": "mysterious-worcester",
   "metadata": {},
   "outputs": [
    {
     "name": "stderr",
     "output_type": "stream",
     "text": [
      "Matplotlib is building the font cache; this may take a moment.\n"
     ]
    }
   ],
   "source": [
    "import os\n",
    "import pandas as pd\n",
    "from gimmemotifs.preprocessing import combine_peaks\n",
    "import subprocess as sp"
   ]
  },
  {
   "cell_type": "code",
   "execution_count": 2,
   "id": "polished-portuguese",
   "metadata": {},
   "outputs": [],
   "source": [
    "#paths to needed files\n",
    "genome_path_size = '/scratch/bacint/jdeleuw/genomes/hg38/hg38.fa.sizes'"
   ]
  },
  {
   "cell_type": "code",
   "execution_count": 3,
   "id": "persistent-tutorial",
   "metadata": {},
   "outputs": [],
   "source": [
    "paths = pd.read_csv('/scratch/bacint/jdeleuw/dev_ananse/ananse_paths.csv', sep = ',', header = 0, index_col = 0) "
   ]
  },
  {
   "cell_type": "code",
   "execution_count": 4,
   "id": "57a3c274",
   "metadata": {},
   "outputs": [],
   "source": [
    "#Copy narrowPeak files to the ananse map and change the name to the day of differentiation\n",
    "for narrow_peak, output_dir in zip(paths['narrow_peak'], paths['narrow_peak_output']):\n",
    "    narrowPeak_df = pd.read_csv(narrow_peak, sep = '\\t', header = None)\n",
    "    narrowPeak_df.to_csv(output_dir, sep = '\\t', header = None, index = False)"
   ]
  },
  {
   "cell_type": "code",
   "execution_count": 5,
   "id": "requested-thought",
   "metadata": {},
   "outputs": [],
   "source": [
    "peak_files = []\n",
    "\n",
    "for index, cell_type in paths.iterrows():\n",
    "    peak_files.extend(paths.narrow_peak_output[index].split(' '))\n",
    "\n",
    "all_peaks_merged = combine_peaks(peak_files,\n",
    "                                 genome_path_size,\n",
    "                                 int(200),\n",
    "                                 True)\n",
    "#extend each summit to 200bp\n",
    "all_peaks_merged.start = all_peaks_merged.start.astype(int) - 100\n",
    "all_peaks_merged.end = all_peaks_merged.end.astype(int) + 100\n",
    "\n",
    "all_peaks_merged = all_peaks_merged[~all_peaks_merged.chrom.str.contains(\"GL|Un|KI|MT|X|Y\")]\n",
    "\n",
    "all_peaks_merged.to_csv(\n",
    "    '/scratch/bacint/jdeleuw/dev_ananse/enhancer_data/peaks_merged.tsv',\n",
    "    sep=\"\\t\",\n",
    "    header=False,\n",
    "    index=False,\n",
    ")"
   ]
  },
  {
   "cell_type": "code",
   "execution_count": 7,
   "id": "nasty-saskatchewan",
   "metadata": {},
   "outputs": [
    {
     "data": {
      "text/plain": [
       "0"
      ]
     },
     "execution_count": 7,
     "metadata": {},
     "output_type": "execute_result"
    }
   ],
   "source": [
    "#delete the config file of gimmemotifs\n",
    "sp.check_call(f'rm -r '\n",
    "              f'/mbshome/jdeleuw/.config/gimmemotifs/',\n",
    "              shell = True)"
   ]
  },
  {
   "cell_type": "code",
   "execution_count": 6,
   "id": "lyric-estimate",
   "metadata": {},
   "outputs": [],
   "source": [
    "#run ananse binding\n",
    "#specify ATAC bam files\n",
    "ATAC_bamfiles_duplicate_A = []\n",
    "ATAC_bamfiles_duplicate_B = []\n",
    "\n",
    "for index, values in paths.iterrows():\n",
    "    if index.endswith('A') or index.endswith('KC2'):\n",
    "        ATAC_bamfiles_duplicate_A.append(values.ATAC_bam)\n",
    "    else:\n",
    "        ATAC_bamfiles_duplicate_B.append(values.ATAC_bam)\n",
    "            \n",
    "#specify merged peak file\n",
    "merged_peak = '/scratch/bacint/jdeleuw/ananse/enhancer_data/peaks_merged.tsv'\n",
    "#specify output paths\n",
    "binding_paths = []\n",
    "binding_paths.extend(paths.binding_output.dropna())\n",
    "#specify log output paths\n",
    "binding_log = []\n",
    "binding_log.extend(paths.binding_log.dropna())\n",
    "\n",
    "for ATAC_bam_A, ATAC_bam_B, output_dir, log in zip(ATAC_bamfiles_duplicate_A, \n",
    "                                                   ATAC_bamfiles_duplicate_B, \n",
    "                                                   binding_paths, \n",
    "                                                   binding_log):\n",
    "    sp.check_call(f'nice -15 ananse binding '\n",
    "                  f'-A {ATAC_bam_A} {ATAC_bam_B} '\n",
    "                  f'-o {output_dir} '\n",
    "                  f'-r {merged_peak} '\n",
    "                  f'-g hg38 '\n",
    "                  f'2> {log}',\n",
    "                  shell = True)  "
   ]
  },
  {
   "cell_type": "code",
   "execution_count": 7,
   "id": "hungarian-violation",
   "metadata": {},
   "outputs": [],
   "source": [
    "#run ananse network\n",
    "#specify TPM_paths\n",
    "TPM_duplicate_A = []\n",
    "TPM_duplicate_B = []\n",
    "\n",
    "for index, values in paths.iterrows():\n",
    "    if index.endswith('A') or index.endswith('KC2'):\n",
    "        TPM_duplicate_A.append(values.TPM_files)\n",
    "    else:\n",
    "        TPM_duplicate_B.append(values.TPM_files)\n",
    "#specify binding input files\n",
    "binding_input = []\n",
    "for path in binding_paths:\n",
    "    path += '/binding.tsv'\n",
    "    binding_input.append(path)\n",
    "#specify network output\n",
    "network_paths = []\n",
    "network_paths.extend(paths.network_output.dropna())\n",
    "#specify log output\n",
    "network_log = []\n",
    "network_log.extend(paths.network_log.dropna())\n",
    "\n",
    "for TPM_A, TPM_B, binding_file, output_dir, log in zip(TPM_duplicate_A[1:], \n",
    "                                                       TPM_duplicate_B[1:], \n",
    "                                                       binding_input[1:], \n",
    "                                                       network_paths[1:], \n",
    "                                                       network_log[1:]):\n",
    "    sp.check_call(f'nice -15 ananse network '\n",
    "                  f'-e {TPM_A} {TPM_B} '\n",
    "                  f'-b {binding_file} '\n",
    "                  f'-o {output_dir} '\n",
    "                  f'-g hg38 '\n",
    "                  f'2> {log}',\n",
    "                  shell = True) "
   ]
  },
  {
   "cell_type": "code",
   "execution_count": null,
   "id": "indian-browser",
   "metadata": {},
   "outputs": [],
   "source": [
    "#run ananse influence\n",
    "#Specify DEgenes paths\n",
    "DEgenes_paths = []\n",
    "DEgenes_paths.extend(paths.DEgenes.dropna())\n",
    "#Specify influence output\n",
    "influence_paths = []\n",
    "influence_paths.extend(paths.influence_output.dropna())\n",
    "#Specify log output\n",
    "influence_log = []\n",
    "influence_log.extend(paths.influence_log.dropna())\n",
    "for network, DEgenes, output_dir, log in zip(network_paths[1:], \n",
    "                                             DEgenes_paths, \n",
    "                                             influence_paths, \n",
    "                                             influence_log):\n",
    "    sp.check_call(f'nice -15 ananse influence '\n",
    "                  f'-s /scratch/bacint/jdeleuw/dev_ananse/network_data/network_Day0.txt '\n",
    "                  f'-t {network} '\n",
    "                  f'-d {DEgenes} '\n",
    "                  f'-p '\n",
    "                  f'-o {output_dir} ' \n",
    "                  f'2> {log}',\n",
    "                  shell = True) "
   ]
  },
  {
   "cell_type": "code",
   "execution_count": null,
   "id": "73a10755",
   "metadata": {},
   "outputs": [],
   "source": [
    "#run ananse influence with day 0 as the target\n",
    "#Specify DEgenes paths\n",
    "rev_DEgenes_paths = []\n",
    "rev_DEgenes_paths.extend(paths.reverse_DEgenes.dropna())\n",
    "#Specify influence output\n",
    "rev_influence_paths = []\n",
    "rev_influence_paths.extend(paths.rev_influence_output.dropna())\n",
    "#Specify log output\n",
    "rev_influence_log = []\n",
    "rev_influence_log.extend(paths.rev_influence_log.dropna())\n",
    "for network, DEgenes, output_dir, log in zip(network_paths[1:], \n",
    "                                             rev_DEgenes_paths, \n",
    "                                             rev_influence_paths, \n",
    "                                             rev_influence_log):\n",
    "    sp.check_call(f'nice -15 ananse influence '\n",
    "                  f'-s {network} '\n",
    "                  f'-t /scratch/bacint/jdeleuw/dev_ananse/network_data/network_Day0.txt '\n",
    "                  f'-d {DEgenes} '\n",
    "                  f'-p '\n",
    "                  f'-o {output_dir} ' \n",
    "                  f'2> {log}',\n",
    "                  shell = True) "
   ]
  }
 ],
 "metadata": {
  "kernelspec": {
   "display_name": "Python 3",
   "language": "python",
   "name": "python3"
  },
  "language_info": {
   "codemirror_mode": {
    "name": "ipython",
    "version": 3
   },
   "file_extension": ".py",
   "mimetype": "text/x-python",
   "name": "python",
   "nbconvert_exporter": "python",
   "pygments_lexer": "ipython3",
   "version": "3.7.8"
  }
 },
 "nbformat": 4,
 "nbformat_minor": 5
}
